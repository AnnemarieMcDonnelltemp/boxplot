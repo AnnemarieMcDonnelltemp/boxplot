{
 "cells": [
  {
   "cell_type": "markdown",
   "metadata": {},
   "source": [
    "# History of Boxplots.\n",
    "### How it all happened."
   ]
  },
  {
   "cell_type": "markdown",
   "metadata": {
    "collapsed": true
   },
   "source": [
    "John Tukey introduced the box plot in 1970, however box plots did not become widely known untill 1977, when they were formally published. \n",
    "Box plots use robust summary statistics located at actual data points, which are quickly computable and have no tuning paramiters. They are helpful to compare distributions accross groups.\n",
    "\n",
    "Box plots are most frequently used statistical graphics and are one of a few which have been adopted widely. Box plots can be easily enhanced and adapted to suit the data.\n",
    "\n",
    "nounSTATISTICS\n",
    "noun: box plot; plural noun: box plots; noun: boxplot; plural noun: boxplots; noun: box-and-whisker plot; plural noun: box-and-whisker plots\n",
    "a simple way of representing statistical data on a plot in which a rectangle is drawn to represent the second and third quartiles, usually with a vertical line inside to indicate the median value. The lower and upper quartiles are shown as horizontal lines either side of the rectangle."
   ]
  },
  {
   "cell_type": "markdown",
   "metadata": {},
   "source": [
    "## Different types\n",
    "\n",
    "After Tukey introduced the Box Plot, there have been a number variations that have been developed:"
   ]
  },
  {
   "attachments": {},
   "cell_type": "markdown",
   "metadata": {},
   "source": [
    "![image.png](http://visualoop.com/media/2015/04/box_plot_variations.png)\n",
    "\n",
    "\n"
   ]
  },
  {
   "cell_type": "markdown",
   "metadata": {},
   "source": [
    "### Variable Width Box Plots: \n",
    "They use the width of the box to represent the size of the data within each group. So a group with a larger total in the data will have a larger width. \n",
    "\n",
    "### Notched Box Plots: \n",
    "Have a narrowing of the box around the median. This is useful way to compare the differences between median values as the “notches” act as a visual guide. \n",
    "\n",
    "### Violin Plots: \n",
    "Are a pair of joined kernel density plots and Vase Plots and Bean Plots are another couple variations of a Box Plot.\n",
    "\n",
    "### Vase Plots and Bean Plots: \n",
    "Are another couple variations of a Box Plot."
   ]
  },
  {
   "cell_type": "markdown",
   "metadata": {},
   "source": [
    "# How to read a Box plot."
   ]
  },
  {
   "cell_type": "markdown",
   "metadata": {},
   "source": [
    "There are a number of observations one can make from viewing a box plot:\n",
    "\n",
    "• What the key values are, such as the average, the median or the lower quartile etc.\n",
    "\n",
    "• If there are any outliers and what their values are.\n",
    "\n",
    "• If the data is symmetrical or not.\n",
    "\n",
    "• How tightly the data is grouped.\n",
    "\n",
    "• If the data is skewed at all and if so, in what direction.\n",
    "\n"
   ]
  },
  {
   "attachments": {},
   "cell_type": "markdown",
   "metadata": {},
   "source": [
    "\n",
    "![image.png](http://visualoop.com/media/2015/04/box_plot_anatomy.png)"
   ]
  },
  {
   "cell_type": "markdown",
   "metadata": {},
   "source": [
    "median\n",
    "/ˈmiːdɪən/Submit\n",
    "adjective\n",
    "adjective: median\n",
    "1.\n",
    "denoting or relating to a value or quantity lying at the midpoint of a frequency distribution of observed values or quantities, such that there is an equal probability of falling above or below it.\n",
    "\"the median duration of this treatment was four months\"\n",
    "denoting the middle term (or mean of the middle two terms) of a series arranged in order of magnitude.\n",
    "\n",
    "quartile\n",
    "/ˈkwɔːtʌɪl/Submit\n",
    "nounSTATISTICS\n",
    "noun: quartile; plural noun: quartiles\n",
    "each of four equal groups into which a population can be divided according to the distribution of values of a particular variable.\n",
    "\"in the highest quartile, the mean age was 72\"\n",
    "each of the three values of the random variable which divide a population into quartiles.\n",
    "Origin\n",
    "\n",
    "\n",
    "Quartiles\n",
    "In order to describe a data set without listing all the data, we have measures of location such as the mean and median, measures of spread such as the range and standard deviation, and descriptions of shape such as symmetric, skewed, unimodal, and bimodal. We can also get a good sense of the distribution of a set of data with five carefully chosen measures of location. We supplement the median, minimum, and maximum with the first and third quartile, which indicate the extent to which the data lies near the median, or near the extremes.\n",
    "There are many definitions for calculating the first and third quartiles, which definitions do not all give the same results. Heuristically, one fourth of the data lies below the first quartile (hence three-quarters above it). Similarly, three quarters of the data lies below the third quartile (hence one quarter above it). The first and third quartiles are the medians of the lower half and upper half of the data, but whether or not you include the median when there are an odd number of data is one reason definitions vary. The second quartile is by definition the median.\n",
    "\n",
    "Note that a quartile is a number or cutoff, and not a range of values. One may be above or below the first quartile, but not in the first quartile.\n",
    "\n",
    "The five number summary, i.e., the minimum, Q1, Q2 (median), Q3, and maximum, give a goo indication of where data lie. For the data set of weights The five number summary is: 105,130, 155, 175, 235. One know immediately that half the data is below 155, half is above 155, and alternatively half is between 130 and 175.\n",
    "\n",
    "The five number summary is sometimes represented graphically as a (box-and-)whisker plot. The first and third quartiles are at the ends of the box, the median is indicated with a vertical line in the box, and the maximum and minimum are at the ends of the whiskers. A boxplot for the weights is depicted below. \n",
    "Boxplot of weights\n",
    "\n",
    "\n",
    "\n",
    "Percentiles\n",
    "Percentiles are like quartiles, except that they divide the data set into 100 equal parts instead of four equal parts (similarly, there are quintiles and deciles and ...). Percentiles are useful for giving the relative standing of an individual in a population, they are essentilaaly the rank position of an idividual. As with quartiles, there are definitions which vary slightly specifying how to calculate percentiles. One definition is the fraction of the population which is less than the specified value. If one wants to compare someone who graduted 37th out of a class of 250 with someone who graduated 12th in a class of 60, one can calculate 213/250 = .852 which is rounded down to the 85th percentile (percentiles measure position from the bottom, 37 from the top means that 213 are below it in a population of 250); similarly 48/60 = .80 or the 80th percentile. Therefore, being 37th out of 250 puts one at the 85th percentile, which is better than 12th out of 60 which is only at the 80th percentile.\n",
    "\n"
   ]
  },
  {
   "cell_type": "code",
   "execution_count": 1,
   "metadata": {},
   "outputs": [
    {
     "data": {
      "image/png": "[encoded data removed]",
      "text/plain": [
       "<matplotlib.figure.Figure at 0x28b7e948c18>"
      ]
     },
     "metadata": {},
     "output_type": "display_data"
    },
    {
     "data": {
      "image/png": "[encoded data removed]",
      "text/plain": [
       "<matplotlib.figure.Figure at 0x28b7e948be0>"
      ]
     },
     "metadata": {},
     "output_type": "display_data"
    },
    {
     "data": {
      "image/png": "[encoded data removed]",
      "text/plain": [
       "<matplotlib.figure.Figure at 0x28b7f3decc0>"
      ]
     },
     "metadata": {},
     "output_type": "display_data"
    },
    {
     "data": {
      "image/png": "[encoded data removed]",
      "text/plain": [
       "<matplotlib.figure.Figure at 0x28b7fdddef0>"
      ]
     },
     "metadata": {},
     "output_type": "display_data"
    },
    {
     "data": {
      "image/png": "[encoded data removed]",
      "text/plain": [
       "<matplotlib.figure.Figure at 0x28b7c3d3a90>"
      ]
     },
     "metadata": {},
     "output_type": "display_data"
    },
    {
     "data": {
      "image/png": "[encoded data removed]",
      "text/plain": [
       "<matplotlib.figure.Figure at 0x28b7c41dd68>"
      ]
     },
     "metadata": {},
     "output_type": "display_data"
    },
    {
     "data": {
      "image/png": "[encoded data removed]",
      "text/plain": [
       "<matplotlib.figure.Figure at 0x28b7f6fb080>"
      ]
     },
     "metadata": {},
     "output_type": "display_data"
    }
   ],
   "source": [
    "import matplotlib.pyplot as plt\n",
    "import numpy as np\n",
    "\n",
    "# fake up some data\n",
    "spread = np.random.rand(50) * 100\n",
    "center = np.ones(25) * 50\n",
    "flier_high = np.random.rand(10) * 100 + 100\n",
    "flier_low = np.random.rand(10) * -100\n",
    "data = np.concatenate((spread, center, flier_high, flier_low), 0)\n",
    "\n",
    "# basic plot\n",
    "plt.boxplot(data)\n",
    "\n",
    "# notched plot\n",
    "plt.figure()\n",
    "plt.boxplot(data, 1)\n",
    "\n",
    "# change outlier point symbols\n",
    "plt.figure()\n",
    "plt.boxplot(data, 0, 'gD')\n",
    "\n",
    "# don't show outlier points\n",
    "plt.figure()\n",
    "plt.boxplot(data, 0, '')\n",
    "\n",
    "# horizontal boxes\n",
    "plt.figure()\n",
    "plt.boxplot(data, 0, 'rs', 0)\n",
    "\n",
    "# change whisker length\n",
    "plt.figure()\n",
    "plt.boxplot(data, 0, 'rs', 0, 0.75)\n",
    "\n",
    "# fake up some more data\n",
    "spread = np.random.rand(50) * 100\n",
    "center = np.ones(25) * 40\n",
    "flier_high = np.random.rand(10) * 100 + 100\n",
    "flier_low = np.random.rand(10) * -100\n",
    "d2 = np.concatenate((spread, center, flier_high, flier_low), 0)\n",
    "data.shape = (-1, 1)\n",
    "d2.shape = (-1, 1)\n",
    "# data = concatenate( (data, d2), 1 )\n",
    "# Making a 2-D array only works if all the columns are the\n",
    "# same length.  If they are not, then use a list instead.\n",
    "# This is actually more efficient because boxplot converts\n",
    "# a 2-D array into a list of vectors internally anyway.\n",
    "data = [data, d2, d2[::2, 0]]\n",
    "# multiple box plots on one figure\n",
    "plt.figure()\n",
    "plt.boxplot(data)\n",
    "\n",
    "plt.show()"
   ]
  },
  {
   "cell_type": "code",
   "execution_count": null,
   "metadata": {
    "collapsed": true
   },
   "outputs": [],
   "source": []
  }
 ],
 "metadata": {
  "kernelspec": {
   "display_name": "Python 3",
   "language": "python",
   "name": "python3"
  },
  "language_info": {
   "codemirror_mode": {
    "name": "ipython",
    "version": 3
   },
   "file_extension": ".py",
   "mimetype": "text/x-python",
   "name": "python",
   "nbconvert_exporter": "python",
   "pygments_lexer": "ipython3",
   "version": "3.6.3"
  }
 },
 "nbformat": 4,
 "nbformat_minor": 2
}
