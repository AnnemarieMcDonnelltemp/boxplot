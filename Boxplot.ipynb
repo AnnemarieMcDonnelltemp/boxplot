{
 "cells": [
  {
   "cell_type": "markdown",
   "metadata": {},
   "source": [
    "# History of Boxplots.\n",
    "### How it all happened."
   ]
  },
  {
   "cell_type": "markdown",
   "metadata": {
    "collapsed": true
   },
   "source": [
    "John Tukey introduced the box plot in 1970, however box plots did not become widely known untill 1977, when they were formally published. \n",
    "Box plots use robust summary statistics located at actual data points, which are quickly computable and have no tuning paramiters. They are helpful to compare distributions accross groups.\n",
    "\n",
    "Box plots are most frequently used statistical graphics and are one of a few which have been adopted widely. Box plots can be easily enhanced and adapted to suit the data.\n",
    "\n",
    "nounSTATISTICS\n",
    "noun: box plot; plural noun: box plots; noun: boxplot; plural noun: boxplots; noun: box-and-whisker plot; plural noun: box-and-whisker plots\n",
    "a simple way of representing statistical data on a plot in which a rectangle is drawn to represent the second and third quartiles, usually with a vertical line inside to indicate the median value. The lower and upper quartiles are shown as horizontal lines either side of the rectangle."
   ]
  },
  {
   "cell_type": "markdown",
   "metadata": {},
   "source": [
    "## Different types\n",
    "\n",
    "After Tukey introduced the Box Plot, there have been a number variations that have been developed:"
   ]
  },
  {
   "cell_type": "markdown",
   "metadata": {},
   "source": [
    "![image.png](http://visualoop.com/media/2015/04/box_plot_variations.png)\n",
    "\n",
    "\n"
   ]
  },
  {
   "cell_type": "markdown",
   "metadata": {},
   "source": [
    "### Variable Width Box Plots: \n",
    "They use the width of the box to represent the size of the data within each group. So a group with a larger total in the data will have a larger width. \n",
    "\n",
    "### Notched Box Plots: \n",
    "Have a narrowing of the box around the median. This is useful way to compare the differences between median values as the “notches” act as a visual guide. \n",
    "\n",
    "### Violin Plots: \n",
    "Are a pair of joined kernel density plots and Vase Plots and Bean Plots are another couple variations of a Box Plot.\n",
    "\n",
    "### Vase Plots and Bean Plots: \n",
    "Are another couple variations of a Box Plot."
   ]
  },
  {
   "cell_type": "markdown",
   "metadata": {},
   "source": [
    "# How to read a Box plot."
   ]
  },
  {
   "cell_type": "markdown",
   "metadata": {},
   "source": [
    "There are a number of observations one can make from viewing a box plot:\n",
    "\n",
    "• What the key values are, such as the average, the median or the lower quartile etc.\n",
    "\n",
    "• If there are any outliers and what their values are.\n",
    "\n",
    "• If the data is symmetrical or not.\n",
    "\n",
    "• How tightly the data is grouped.\n",
    "\n",
    "• If the data is skewed at all and if so, in what direction.\n",
    "\n"
   ]
  },
  {
   "cell_type": "markdown",
   "metadata": {},
   "source": [
    "\n",
    "![image.png](http://visualoop.com/media/2015/04/box_plot_anatomy.png)"
   ]
  },
  {
   "cell_type": "code",
   "execution_count": 3,
   "metadata": {},
   "outputs": [
    {
     "data": {
      "image/png": "[encoded data removed]",
      "text/plain": [
       "<matplotlib.figure.Figure at 0x172cc1cc0f0>"
      ]
     },
     "metadata": {},
     "output_type": "display_data"
    }
   ],
   "source": [
    "import matplotlib.pyplot as plt\n",
    " \n",
    "value1 = [17255,17426,19099,18693,17256,]\n",
    "value2=[19705,18903,22001,19074,14370,]\n",
    "value3=[16950,12370,18140,17375,19200,]\n",
    "value4=[15715,12751,12174,13217,13731,]\n",
    "value5=[14141,13971,11974,12170,19300,]\n",
    "\n",
    "fig = plt.figure()\n",
    "fig.suptitle('DAILY DISTANCE', fontsize=14, fontweight='bold')\n",
    "\n",
    "ax = fig.add_subplot(111)\n",
    "fig.subplots_adjust(top=0.85)\n",
    "\n",
    "ax.set_xlabel('total steps taken')\n",
    "ax.set_ylabel('day shift 13.5hrs')\n",
    "\n",
    "box_plot_data=[value1,value2,value3,value4,value5]\n",
    "box=plt.boxplot(box_plot_data,vert=0,patch_artist=True,labels=['nurse1','nurse2','nurse3','nurse4','nurse5'], )\n",
    " \n",
    "colors = ['cyan', 'lightblue', 'lightgreen', 'tan']\n",
    "for patch, color in zip(box['boxes'], colors):\n",
    "    patch.set_facecolor(color)\n",
    " \n",
    "plt.show()"
   ]
  },
  {
   "cell_type": "markdown",
   "metadata": {},
   "source": [
    "### Median\n",
    "\n",
    "The median is the value or quantity lying at the midpoint of a frequency distribution of observed values or quantities, such that there is an equal probability of falling above or below it.\n",
    "##### Example:\n",
    "Value set 1 consists of 5 numbers, representing steps taken: 17255,17426,19099,18693,17256\n",
    "\n",
    "First put the steps in numerical order: 17255,17256,17426,18693,19099\n",
    "\n",
    "The median is 17426 as it is the midpoint number.\n",
    "\n",
    "\n",
    "\n",
    "### Quartile\n",
    "\n",
    "The quartile is the term given to one of the four equal groups into which a population can be divided according to the distribution of values of a particular variable.\n",
    "the median, minimum, and maximum with the first and third quartile, which indicate the extent to which the data lies near the median, or near the extremes.\n",
    "The first and third quartiles are the medians of the lower half and upper half of the data,The second quartile is by definition the median.\n",
    "Note that a quartile is a number or cutoff, and not a range of values. One may be above or below the first quartile, but not in the first quartile.\n",
    "##### Example\n",
    " \n",
    "Using value set1: 17255,17256,17426,18693,19099\n",
    "\n",
    " \n",
    "{17255, 17256, 17426, 18693, 19099}\n",
    "\n",
    "Quartile 1 (Q1): 17255.5\n",
    "Quartile 2 (Q2): 17426\n",
    "Quartile 3 (Q3): 1889\n",
    "\n",
    "\n",
    "### Percentiles\n",
    "\n",
    "Percentiles are like quartiles, except that they divide the data set into 100 equal parts instead of four equal parts. Percentiles are useful for giving the relative standing of an individual in a population, they are essentilally the rank position of an idividual. \n",
    "\n",
    "##### Example.\n",
    "\n",
    "Find the 25th percentile of the value 1: {17255, 17256, 17426, 18693, 19099}\n",
    "\n",
    "Arrange the data in ascending order: 17255, 17256, 17426, 18693, 19099\n",
    "\n",
    "Step 2. Compute the position of the pth percentile (index i):\n",
    "i = (p / 100) * n), where p = 25 and n = 5\n",
    "i = (25 / 100) * 5 = 1.25\n",
    "\n",
    "The index i is not an integer, round up. (i = 2) ⇒ the 25th percentile is the value in 2th position, or 17256\n",
    "\n",
    "Answer: the 25th percentile is 17256\n",
    "https://goodcalculators.com/percentile-calculator/\n",
    "© 2015-2018 goodcalculators.com\n"
   ]
  },
  {
   "attachments": {},
   "cell_type": "markdown",
   "metadata": {
    "collapsed": true
   },
   "source": [
    "# Alternatives to the Box Plot.\n",
    "\n",
    "While Box Plots are great for showing the different ranges in a data set, their structure is not intuitive and reading them takes time to learn. Box Plots are primarily used for statistical insights, so would not be understood for an audience who are not literate in statistics\n",
    "\n",
    "Comparing Histograms and Box Plots\n",
    "Although histograms and box plots are collectively part of the chart aid category, they do represent very different types of charts. Both charts effectively represent different data sets; however, in certain situations, one chart may be superior to the other in achieving the goal of identifying variances among data. The type of chart aid chosen depends on the type of data collected, rough analysis of data trends, and project goals.\n",
    "![image.png](https://img.bhs4.com/fc/4/fc48083597424b43897da57aa1962f9410ab2156_large.jpg)\n",
    "![image.png](https://img.bhs4.com/c5/d/c5d50e74822ce9fc62a6fa5c6108ef14ee9df854_large.jpg)\n",
    "A histogram is highly useful when wide variances exist among the observed frequencies for a particular data set. As seen in the two graphs to the left, the histogram shows that there are three peaks within the data, indicating it is tri-modal (three commonly recurring groups of numbers). This is important because to improve processes, it is critical to understand what is causing these three modes. Had this data simply been graphed using a box plot, the values would average one another out, causing the distribution to look roughly normal.\n",
    "\n",
    "![image.png](https://img.bhs4.com/fc/9/fc9e03858e54bcd8726db7144b304a74e9af662b_large.jpg)\n",
    "![image.png](https://img.bhs4.com/f6/1/f6194e10671283fb7cb7ac800807b59ee7962417_large.jpg)\n",
    "Another instance when a histogram is preferable over a box plot is when there is very little variance among the observed frequencies. The histogram displayed to the right shows that there is little variance across the groups of data; however, when the same data points are graphed on a box plot, the distribution looks roughly normal with a high portion of the values falling below six.\n",
    "![image.png](https://img.bhs4.com/a0/3/a0330ad0770c3c951442313ae598f5e3e3da1b27_large.jpg)\n",
    "![image.png](https://img.bhs4.com/1a/2/1a295851e8bceb022a9a930c8f3f3777e9b10826_large.jpg)\n",
    "The final set of graphs shows how a box plot can be more useful than a histogram. This occurs when there is moderate variation among the observed frequencies, which causes the histogram to look ragged and non-symmetrical due to the way the data is grouped. This may lead one to assume the data is slightly skewed. However, when a box plot is used to graph the same data points, the chart indicates a perfect normal distribution."
   ]
  },
  {
   "cell_type": "code",
   "execution_count": null,
   "metadata": {
    "collapsed": true
   },
   "outputs": [],
   "source": []
  }
 ],
 "metadata": {
  "kernelspec": {
   "display_name": "Python 3",
   "language": "python",
   "name": "python3"
  },
  "language_info": {
   "codemirror_mode": {
    "name": "ipython",
    "version": 3
   },
   "file_extension": ".py",
   "mimetype": "text/x-python",
   "name": "python",
   "nbconvert_exporter": "python",
   "pygments_lexer": "ipython3",
   "version": "3.6.3"
  }
 },
 "nbformat": 4,
 "nbformat_minor": 2
}
